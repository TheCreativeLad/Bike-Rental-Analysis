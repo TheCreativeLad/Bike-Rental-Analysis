{
  "nbformat": 4,
  "nbformat_minor": 0,
  "metadata": {
    "colab": {
      "provenance": [],
      "authorship_tag": "ABX9TyPJGyrBheuYULJ4D/w75yTw",
      "include_colab_link": true
    },
    "kernelspec": {
      "name": "ir",
      "display_name": "R"
    },
    "language_info": {
      "name": "R"
    }
  },
  "cells": [
    {
      "cell_type": "markdown",
      "metadata": {
        "id": "view-in-github",
        "colab_type": "text"
      },
      "source": [
        "<a href=\"https://colab.research.google.com/github/TheCreativeLad/Bike-Rental-Analysis/blob/main/Student_Performance.ipynb\" target=\"_parent\"><img src=\"https://colab.research.google.com/assets/colab-badge.svg\" alt=\"Open In Colab\"/></a>"
      ]
    },
    {
      "cell_type": "code",
      "execution_count": 3,
      "metadata": {
        "id": "Mdculw8gCjlY"
      },
      "outputs": [],
      "source": [
        "stud <- read.csv('/content/stud.csv')"
      ]
    },
    {
      "cell_type": "code",
      "source": [
        "attach(stud)\n",
        "names(stud)"
      ],
      "metadata": {
        "colab": {
          "base_uri": "https://localhost:8080/",
          "height": 34
        },
        "id": "9z1clS77GB9i",
        "outputId": "0cdb0c78-7f82-440d-eaef-871fdddf259c"
      },
      "execution_count": 4,
      "outputs": [
        {
          "output_type": "display_data",
          "data": {
            "text/html": [
              "<style>\n",
              ".list-inline {list-style: none; margin:0; padding: 0}\n",
              ".list-inline>li {display: inline-block}\n",
              ".list-inline>li:not(:last-child)::after {content: \"\\00b7\"; padding: 0 .5ex}\n",
              "</style>\n",
              "<ol class=list-inline><li>'StudentID'</li><li>'Gender'</li><li>'Age'</li><li>'StudyHoursPerWeek'</li><li>'AttendanceRate'</li><li>'GPA'</li><li>'Major'</li><li>'PartTimeJob'</li><li>'ExtraCurricularActivities'</li></ol>\n"
            ],
            "text/markdown": "1. 'StudentID'\n2. 'Gender'\n3. 'Age'\n4. 'StudyHoursPerWeek'\n5. 'AttendanceRate'\n6. 'GPA'\n7. 'Major'\n8. 'PartTimeJob'\n9. 'ExtraCurricularActivities'\n\n\n",
            "text/latex": "\\begin{enumerate*}\n\\item 'StudentID'\n\\item 'Gender'\n\\item 'Age'\n\\item 'StudyHoursPerWeek'\n\\item 'AttendanceRate'\n\\item 'GPA'\n\\item 'Major'\n\\item 'PartTimeJob'\n\\item 'ExtraCurricularActivities'\n\\end{enumerate*}\n",
            "text/plain": [
              "[1] \"StudentID\"                 \"Gender\"                   \n",
              "[3] \"Age\"                       \"StudyHoursPerWeek\"        \n",
              "[5] \"AttendanceRate\"            \"GPA\"                      \n",
              "[7] \"Major\"                     \"PartTimeJob\"              \n",
              "[9] \"ExtraCurricularActivities\""
            ]
          },
          "metadata": {}
        }
      ]
    },
    {
      "cell_type": "markdown",
      "source": [
        "Loading the Packages I will be using for this project, ggplot2 and dplyr."
      ],
      "metadata": {
        "id": "8JCPr6MQ7sGY"
      }
    },
    {
      "cell_type": "code",
      "source": [
        "library(dplyr)\n",
        "library(ggplot2)"
      ],
      "metadata": {
        "colab": {
          "base_uri": "https://localhost:8080/"
        },
        "id": "5gsFzS1d77us",
        "outputId": "06677d66-639e-4543-deab-b907f265440e"
      },
      "execution_count": 5,
      "outputs": [
        {
          "output_type": "stream",
          "name": "stderr",
          "text": [
            "\n",
            "Attaching package: ‘dplyr’\n",
            "\n",
            "\n",
            "The following objects are masked from ‘package:stats’:\n",
            "\n",
            "    filter, lag\n",
            "\n",
            "\n",
            "The following objects are masked from ‘package:base’:\n",
            "\n",
            "    intersect, setdiff, setequal, union\n",
            "\n",
            "\n"
          ]
        }
      ]
    },
    {
      "cell_type": "markdown",
      "source": [
        "DATA CLEANING"
      ],
      "metadata": {
        "id": "xg1uJM3w7_-m"
      }
    },
    {
      "cell_type": "markdown",
      "source": [
        "Turning the Gender, PartTimeJob, and ExtraCurricularActivities to a factor"
      ],
      "metadata": {
        "id": "oT-ykSeB8D_E"
      }
    },
    {
      "cell_type": "code",
      "source": [
        "stud$Gender <- as.factor(stud$Gender)\n",
        "stud$PartTimeJob <- as.factor(stud$PartTimeJob)\n",
        "stud$ExtraCurricularActivities <- as.factor(stud$ExtraCurricularActivities)"
      ],
      "metadata": {
        "id": "f9rbs6Hn8L6i"
      },
      "execution_count": 6,
      "outputs": []
    },
    {
      "cell_type": "markdown",
      "source": [
        "Getting the summary statistics of the data"
      ],
      "metadata": {
        "id": "_VpqG1gI8P83"
      }
    },
    {
      "cell_type": "code",
      "source": [
        "summary(stud)"
      ],
      "metadata": {
        "colab": {
          "base_uri": "https://localhost:8080/",
          "height": 260
        },
        "id": "veXJmMmG8Tg_",
        "outputId": "99d6f088-0c13-40c3-d625-3f225cbd78f6"
      },
      "execution_count": 7,
      "outputs": [
        {
          "output_type": "display_data",
          "data": {
            "text/plain": [
              "   StudentID        Gender         Age        StudyHoursPerWeek AttendanceRate \n",
              " Min.   :  1.0   Female:256   Min.   :18.00   Min.   : 1.00     Min.   :50.01  \n",
              " 1st Qu.:125.8   Male  :244   1st Qu.:19.00   1st Qu.:10.00     1st Qu.:62.61  \n",
              " Median :250.5                Median :21.00   Median :20.50     Median :75.73  \n",
              " Mean   :250.5                Mean   :20.96   Mean   :19.88     Mean   :74.99  \n",
              " 3rd Qu.:375.2                3rd Qu.:23.00   3rd Qu.:30.00     3rd Qu.:87.22  \n",
              " Max.   :500.0                Max.   :24.00   Max.   :39.00     Max.   :99.97  \n",
              "      GPA           Major           PartTimeJob ExtraCurricularActivities\n",
              " Min.   :2.000   Length:500         No :232     No :260                  \n",
              " 1st Qu.:2.487   Class :character   Yes:268     Yes:240                  \n",
              " Median :3.000   Mode  :character                                        \n",
              " Mean   :2.985                                                           \n",
              " 3rd Qu.:3.480                                                           \n",
              " Max.   :3.990                                                           "
            ]
          },
          "metadata": {}
        }
      ]
    },
    {
      "cell_type": "markdown",
      "source": [
        "SUMMARY ON GENDER\n",
        "we can see that from this dataset, we have more female students than the male students, having 256 females and 244 males.\n",
        "\n",
        "SUMMARY ON AGE\n",
        "The average age of the students is 21 years, where the minimum and maximum is 18 and 24 years respectively\n",
        "\n",
        "\n",
        "SUMMARY ON THE STUDY HOURS PER WEEK\n",
        "The average study hours of the student per week is approximately 20 hours, while the minimum and maximum study hours per week is 1 and 39 respectively\n",
        "\n",
        "SUMMARY ON ATTENDANCE RATE\n",
        "The average attendance rate of the students is approximately 75% while the minimum and the maximum is approximately50% and 100% respectively\n",
        "\n",
        "SUMMARY ON THE GPA\n",
        "The average GPA of the students is 2.985 while the minimum and maximum is 2.00 and 3.99 respectively\n",
        "\n",
        "SUMMARY OF THE MAJOR COURSES\n",
        "From the given data, we can see that there 5 major courses, which are: Arts, Business, Education, Engineering, and Science\n",
        "We can also see that students take Business course more than the other courses, Engineering, Arts, Education and Science in that order\n",
        "\n",
        "SUMMARY ON THE PART TIME JOB\n",
        "The number of student doing part time job (268) is more than the students who are not doing part Time Job (232)\n",
        "\n",
        "SUMMARY ON EXTRA CURRIICULAR ACTIVITIES\n",
        "The number fo students engaging in extra curricular activities (240) is less than the students who are not (240)\n"
      ],
      "metadata": {
        "id": "0cDTom7p8YjM"
      }
    },
    {
      "cell_type": "markdown",
      "source": [
        "DATA VISUALIZATION"
      ],
      "metadata": {
        "id": "PcrFC_oT9JO4"
      }
    },
    {
      "cell_type": "markdown",
      "source": [
        "Visualizing the proportion of gender using barplot"
      ],
      "metadata": {
        "id": "6UlsTGAJ9N53"
      }
    },
    {
      "cell_type": "code",
      "source": [
        "ggplot(stud, aes(Gender, StudentID)) + geom_bar(stat = \"identity\", fill = \"brown\") +\n",
        "  labs(title = \"Visualization of the Students according to their gender using Bar Chart\") + theme_update()"
      ],
      "metadata": {
        "colab": {
          "base_uri": "https://localhost:8080/",
          "height": 437
        },
        "id": "M8TVq1Pa8oKm",
        "outputId": "dc603a2e-0c43-4953-a3b9-2dfc66b27ca3"
      },
      "execution_count": 8,
      "outputs": [
        {
          "output_type": "display_data",
          "data": {
            "text/plain": [
              "plot without title"
            ],
            "image/png": "[encoded data removed]"
          },
          "metadata": {
            "image/png": {
              "width": 420,
              "height": 420
            }
          }
        }
      ]
    },
    {
      "cell_type": "markdown",
      "source": [
        "Visualizing the proportion of gender using pie chart"
      ],
      "metadata": {
        "id": "tDcrwHpS9Tem"
      }
    },
    {
      "cell_type": "code",
      "source": [
        "dat <- data.frame(table(stud$Gender))\n",
        "Sex <- dat$Var1"
      ],
      "metadata": {
        "id": "-mnOb2yJ9s8W"
      },
      "execution_count": null,
      "outputs": []
    },
    {
      "cell_type": "code",
      "source": [
        "ggplot(dat, aes(x = \"\", y = Freq, fill = Sex)) + geom_bar(stat = \"identity\", width = 1, color = \"white\") +\n",
        "  coord_polar(\"y\", start = 0) + theme_void() + labs(title = \"Visualization of the Students according to their Gender using Pie Chart\")"
      ],
      "metadata": {
        "id": "tNw5ak_c9wxv"
      },
      "execution_count": null,
      "outputs": []
    },
    {
      "cell_type": "markdown",
      "source": [
        "Visualization of the Major Courses"
      ],
      "metadata": {
        "id": "7S9d0tJ_91q2"
      }
    },
    {
      "cell_type": "code",
      "source": [
        "major_courses <- data.frame(table(stud$Major))\n",
        "course <- major_courses$Var1\n",
        "value <- major_courses$Freq"
      ],
      "metadata": {
        "id": "HNzQ0wHA-ggX"
      },
      "execution_count": null,
      "outputs": []
    },
    {
      "cell_type": "code",
      "source": [
        "ggplot(major_courses, aes(course, value, fill = course)) + geom_bar(stat = \"identity\") +\n",
        "  labs(title = \"Visualization of the students according to the Major Courses registered\", y = \"Number of Students\")"
      ],
      "metadata": {
        "id": "V5l6HHEb95vm"
      },
      "execution_count": null,
      "outputs": []
    },
    {
      "cell_type": "markdown",
      "source": [
        "Visualizatiom of Students according to Part Time Jobs"
      ],
      "metadata": {
        "id": "nuuhenNj-AQM"
      }
    },
    {
      "cell_type": "code",
      "source": [
        "pt_job <- data.frame(table(stud$PartTimeJob))\n",
        "job <- pt_job$Var1\n",
        "cnt <- pt_job$Freq"
      ],
      "metadata": {
        "id": "z6RRVXJl-C7o"
      },
      "execution_count": null,
      "outputs": []
    },
    {
      "cell_type": "code",
      "source": [
        "ggplot(pt_job, aes(job, cnt, fill = job)) + geom_bar(stat = \"identity\") +\n",
        "  labs(title = \"Visualization of the students according to Part Time Jobs Engagements\",\n",
        "       y = \"Number of Students\", x = \"Part Time Job Engagement\")"
      ],
      "metadata": {
        "id": "isjQQkys-GOi"
      },
      "execution_count": null,
      "outputs": []
    },
    {
      "cell_type": "markdown",
      "source": [
        "Visualizatiom of Students according to Extra Curricular Activities"
      ],
      "metadata": {
        "id": "y3r-C0T2-IsT"
      }
    },
    {
      "cell_type": "code",
      "source": [
        "extra <- data.frame(table(stud$ExtraCurricularActivities))\n",
        "extras <- extra$Var1\n",
        "cnt <- extra$Freq"
      ],
      "metadata": {
        "id": "-xlNnQvq-NWH"
      },
      "execution_count": null,
      "outputs": []
    },
    {
      "cell_type": "code",
      "source": [
        "ggplot(extra, aes(extras, cnt, fill = extras)) + geom_bar(stat = \"identity\") +\n",
        "  labs(title = \"Visualization of the students according to Extra Curricular Activities Engagements\",\n",
        "       y = \"Number of Students\", x = \"Extra Curricular Activities Engagement\")"
      ],
      "metadata": {
        "id": "6_0Y5gXJ-QMl"
      },
      "execution_count": null,
      "outputs": []
    },
    {
      "cell_type": "markdown",
      "source": [
        " ANALYSIS OF THE IMPACTS OF EACH VARIABLES ON THE PERFORMANCE OF THE STUDENTS"
      ],
      "metadata": {
        "id": "wkKbQuya-Vgo"
      }
    },
    {
      "cell_type": "markdown",
      "source": [
        "The performance of each gender of the students"
      ],
      "metadata": {
        "id": "Q8UWcJRV-ZdZ"
      }
    },
    {
      "cell_type": "code",
      "source": [
        "gpa_gender <- stud %>%\n",
        "  group_by(Gender) %>%\n",
        "  summarise(cnt = mean(GPA))\n",
        "gpa_gender"
      ],
      "metadata": {
        "id": "jUCYNfqI-csl"
      },
      "execution_count": null,
      "outputs": []
    },
    {
      "cell_type": "code",
      "source": [
        "ggplot(gpa_gender, aes(Gender, cnt, fill = Gender)) + geom_bar(stat = \"identity\") +\n",
        "  labs(title = \"Visualization of the performance of each gender of students\",\n",
        "       x = \"Gender\", y = \"Students Performance\")"
      ],
      "metadata": {
        "id": "jKrvHJDI-oif"
      },
      "execution_count": null,
      "outputs": []
    },
    {
      "cell_type": "markdown",
      "source": [
        "From the above result, we can see that there is no much difference in the performance of the male and female, wit the male having a average GPA of 2.97 and the female having an average GPA of 3.00."
      ],
      "metadata": {
        "id": "MZOU91bf-pwy"
      }
    },
    {
      "cell_type": "markdown",
      "source": [
        "The performance of each Age of the students"
      ],
      "metadata": {
        "id": "NJXiZjmM-wOq"
      }
    },
    {
      "cell_type": "code",
      "source": [
        "gpa_age <- stud %>%\n",
        "  group_by(Age) %>%\n",
        "  summarise(cnt = mean(GPA))\n",
        "gpa_age"
      ],
      "metadata": {
        "id": "biS_Ler8-tKD"
      },
      "execution_count": null,
      "outputs": []
    },
    {
      "cell_type": "code",
      "source": [
        "ggplot(gpa_age, aes(Age, cnt, fill = Age)) + geom_bar(stat = \"identity\", width = 0.8) +\n",
        "  labs(title = \"Visualization of the performance of each Age of students\",\n",
        "       x = \"Age\", y = \"Students Performance\") +\n",
        "  geom_text(aes(label = round(cnt, 2)), vjust = 5, color = \"white\")"
      ],
      "metadata": {
        "id": "l1hMfch9-1ia"
      },
      "execution_count": null,
      "outputs": []
    },
    {
      "cell_type": "markdown",
      "source": [
        "From the above result, we can see that the students of age 23 with 3.2 performs more better than the others, and the students of age 18 has the least performance of 2.87."
      ],
      "metadata": {
        "id": "U6E7Xalp-4qV"
      }
    },
    {
      "cell_type": "markdown",
      "source": [
        "Looking for the relationship between the student performance and the Study Hours per Week"
      ],
      "metadata": {
        "id": "H_lrMY2w-8I_"
      }
    },
    {
      "cell_type": "code",
      "source": [
        "ggplot(stud, aes(StudyHoursPerWeek, GPA)) + geom_point(stat = \"identity\", position = \"identity\") +\n",
        "  geom_smooth(method = \"lm\") + labs(title = \"Relationship between the Study Hours of the Students and their Performance\")"
      ],
      "metadata": {
        "id": "ZmRHHD93_AU2"
      },
      "execution_count": null,
      "outputs": []
    },
    {
      "cell_type": "markdown",
      "source": [
        "From the result above, we can see that there is no significant relationship between the Study Hours per week and the students' performance."
      ],
      "metadata": {
        "id": "LTaZheQg_D2k"
      }
    },
    {
      "cell_type": "markdown",
      "source": [
        "Performing a correlation test to check further"
      ],
      "metadata": {
        "id": "QuTFgjs8_I9A"
      }
    },
    {
      "cell_type": "code",
      "source": [
        "cor.test(x = StudyHoursPerWeek, y = GPA)"
      ],
      "metadata": {
        "id": "VGYoNdfz_HNR"
      },
      "execution_count": null,
      "outputs": []
    },
    {
      "cell_type": "markdown",
      "source": [
        "From the result of the correlation test, since our p value = 0.0404, is less than 0.05, we do not reject our null hypothesis and hereby conclude that the correlation is significantly different from zero. Moreover, from the value of our correlation coefficient being 0.0917, we can see that there is only a little correlation of about 9% between the study hours per week of the students and their performance."
      ],
      "metadata": {
        "id": "RJznywe0_Rpq"
      }
    },
    {
      "cell_type": "markdown",
      "source": [
        "Looking for the relationship between thw Attendance rate and the performance rate of the students."
      ],
      "metadata": {
        "id": "F4CzqNmi_aRt"
      }
    },
    {
      "cell_type": "code",
      "source": [
        "ggplot(stud, aes(AttendanceRate, GPA)) + geom_point(stat = \"identity\", position = \"identity\") +\n",
        "  geom_smooth(method = \"lm\") + labs(title = \"Relationship between the Attendance Rate of the Students and their Performance\")"
      ],
      "metadata": {
        "id": "2ZIiX1dI_e4w"
      },
      "execution_count": null,
      "outputs": []
    },
    {
      "cell_type": "markdown",
      "source": [
        "Performing a correlation test to check further"
      ],
      "metadata": {
        "id": "uJe-RIIX_jPL"
      }
    },
    {
      "cell_type": "code",
      "source": [
        "cor.test(x = AttendanceRate, y = GPA)"
      ],
      "metadata": {
        "id": "37HBzYAe_pFL"
      },
      "execution_count": null,
      "outputs": []
    },
    {
      "cell_type": "markdown",
      "source": [
        " From the result of the correlation test, since our p value = 0.1745, is greater than 0.05, we reject our null hypothesis and hereby conclude that the correlation is not significantly different from zero. Moreover, from the value of our correlation coefficient being 0.0608, we can see that there is only a little correlation of about 6% between the Attendance Rates of the students and their performance."
      ],
      "metadata": {
        "id": "O1OuhPnf_tu2"
      }
    },
    {
      "cell_type": "markdown",
      "source": [
        "Checking for the impact of the Major Course registered on the performance of the Students"
      ],
      "metadata": {
        "id": "8SFCzOW__1IO"
      }
    },
    {
      "cell_type": "code",
      "source": [
        "gpa_major <- stud %>%\n",
        "  group_by(Major) %>%\n",
        "  summarise(cnt = mean(GPA))\n",
        "gpa_major"
      ],
      "metadata": {
        "id": "v4ETf0PW_6tC"
      },
      "execution_count": null,
      "outputs": []
    },
    {
      "cell_type": "code",
      "source": [
        "ggplot(gpa_major, aes(Major, cnt, fill = Major)) + geom_bar(stat = \"identity\") +\n",
        "  geom_text(aes(label = round(cnt, 2)), vjust = 5, color = \"black\") +\n",
        "  labs(title = \"Visualization of the students' performance based on the Major Course offered\")"
      ],
      "metadata": {
        "id": "TM1sV1zm_8Xc"
      },
      "execution_count": null,
      "outputs": []
    },
    {
      "cell_type": "markdown",
      "source": [
        "From the result above, we can see that the students doing Business as their major course performs more while the students doing Science as their Major Course had the least performance. But there is no much difference in their performance."
      ],
      "metadata": {
        "id": "qcm5B4jL_4rM"
      }
    },
    {
      "cell_type": "markdown",
      "source": [
        "Checking for the impact of doing a Part Time Job on the performance of the Students."
      ],
      "metadata": {
        "id": "vjwney9OADwg"
      }
    },
    {
      "cell_type": "code",
      "source": [
        "gpa_job <- stud %>%\n",
        "  group_by(PartTimeJob) %>%\n",
        "  summarise(cnt = mean(GPA))\n",
        "gpa_job"
      ],
      "metadata": {
        "id": "-KZsXar1ApM2"
      },
      "execution_count": null,
      "outputs": []
    },
    {
      "cell_type": "code",
      "source": [
        "ggplot(gpa_job, aes(PartTimeJob, cnt, fill = PartTimeJob)) + geom_bar(stat = \"identity\") +\n",
        "  geom_text(aes(label = round(cnt, 2)), vjust = 5, color = \"black\") +\n",
        "  labs(title = \"Visualization of the students' performance based on the Major Course offered\")"
      ],
      "metadata": {
        "id": "uEOjRT12Ar02"
      },
      "execution_count": null,
      "outputs": []
    },
    {
      "cell_type": "markdown",
      "source": [
        "From the result above, we can see that the students doing Part Time Job (3.01) performs more than the students who are not doing Part Time Job(2.96). But there is no much difference in their performance."
      ],
      "metadata": {
        "id": "SwwlO4baAvtf"
      }
    },
    {
      "cell_type": "markdown",
      "source": [
        "Checking for the impact of doing Extra Curricular Activities on the performance of the Students."
      ],
      "metadata": {
        "id": "fHdEOdlHA0jS"
      }
    },
    {
      "cell_type": "code",
      "source": [
        "gpa_extra <- stud %>%\n",
        "  group_by(ExtraCurricularActivities) %>%\n",
        "  summarise(cnt = mean(GPA))\n",
        "gpa_extra"
      ],
      "metadata": {
        "id": "VQk-COq-AzJo"
      },
      "execution_count": null,
      "outputs": []
    },
    {
      "cell_type": "code",
      "source": [
        "ggplot(gpa_extra, aes(ExtraCurricularActivities, cnt, fill = ExtraCurricularActivities)) +\n",
        "  geom_bar(stat = \"identity\") + geom_text(aes(label = round(cnt, 2)), vjust = 5, color = \"black\") +\n",
        "  labs(title = \"Visualization of the students' performance based on the Extra Curricular Activities\")"
      ],
      "metadata": {
        "id": "NnMzt1IZA8FT"
      },
      "execution_count": null,
      "outputs": []
    },
    {
      "cell_type": "markdown",
      "source": [
        "From the result above, we can see that the students doing Extra Curricular Activities (3.01) performs more than the students who are not doing Extra Curricular Activities(2.96). But there is no much difference in their performance."
      ],
      "metadata": {
        "id": "5x7O_xA4A_w_"
      }
    }
  ]
}